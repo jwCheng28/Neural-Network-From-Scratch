{
 "cells": [
  {
   "cell_type": "code",
   "execution_count": 1,
   "metadata": {
    "tags": []
   },
   "outputs": [],
   "source": [
    "%load_ext autoreload\n",
    "%autoreload 2"
   ]
  },
  {
   "cell_type": "code",
   "execution_count": 1,
   "metadata": {
    "tags": []
   },
   "outputs": [],
   "source": [
    "import data_manager as dm\n",
    "import numpy as np\n",
    "import network"
   ]
  },
  {
   "cell_type": "code",
   "execution_count": 2,
   "metadata": {},
   "outputs": [],
   "source": [
    "train, test = dm.load_data()"
   ]
  },
  {
   "cell_type": "code",
   "execution_count": 3,
   "metadata": {
    "tags": []
   },
   "outputs": [
    {
     "name": "stdout",
     "output_type": "stream",
     "text": [
      "(60000, 784)\n"
     ]
    }
   ],
   "source": [
    "X, y = dm.seperate(train)\n",
    "print(X.shape)"
   ]
  },
  {
   "cell_type": "code",
   "execution_count": 4,
   "metadata": {},
   "outputs": [],
   "source": [
    "net = network.Network([784, 100, 10])"
   ]
  },
  {
   "cell_type": "code",
   "execution_count": 5,
   "metadata": {},
   "outputs": [],
   "source": [
    "X = X[:1000,:]\n",
    "y = y[:1000]"
   ]
  },
  {
   "cell_type": "code",
   "execution_count": 6,
   "metadata": {},
   "outputs": [],
   "source": [
    "y = y.copy()\n",
    "y = np.eye(10)[y]"
   ]
  },
  {
   "cell_type": "code",
   "execution_count": 7,
   "metadata": {},
   "outputs": [
    {
     "name": "stdout",
     "output_type": "stream",
     "text": [
      "36.026225082195666\n",
      "34.01326131811743\n",
      "32.099472013465075\n",
      "30.28469272375499\n",
      "28.567944441955074\n",
      "26.947578817063743\n",
      "25.421386941263357\n",
      "23.986664225748708\n",
      "22.64025769845105\n",
      "21.378624216896945\n",
      "20.197919347726685\n",
      "19.09411425203131\n",
      "18.063116189634115\n",
      "17.100863870194765\n",
      "16.20338233778496\n",
      "15.36680345499948\n",
      "14.58737145011378\n",
      "13.861449311951608\n",
      "13.185528971223798\n",
      "12.556240456769244\n",
      "11.970356925607609\n",
      "11.424797479663464\n",
      "10.916631566039548\n",
      "10.443086639827996\n",
      "10.001557503312092\n",
      "9.58961396726868\n",
      "9.205003876678875\n",
      "8.845650249960913\n",
      "8.509643071317463\n",
      "8.195227401373797\n",
      "7.900789803063588\n",
      "7.624844813541082\n",
      "7.366022607674008\n",
      "7.123058360166938\n",
      "6.894783313430325\n",
      "6.68011727527301\n",
      "6.47806218216367\n",
      "6.287696398419154\n",
      "6.108169506836024\n",
      "5.938697433837513\n",
      "5.778557820701168\n",
      "5.627085598381439\n",
      "5.483668751337289\n",
      "5.347744271377273\n",
      "5.218794310242901\n",
      "5.096342542172857\n",
      "4.979950746728842\n",
      "4.869215618939377\n",
      "4.763765809392706\n",
      "4.663259192169496\n",
      "4.5673803541604805\n",
      "4.475838295805505\n",
      "4.388364330814835\n",
      "4.304710170996724\n",
      "4.22464618176334\n",
      "4.147959794023023\n",
      "4.074454058771109\n",
      "4.003946331565604\n",
      "3.9362670750800612\n",
      "3.8712587689487257\n",
      "3.8087749171047927\n",
      "3.748679143721756\n",
      "3.6908443696955837\n",
      "3.635152062343924\n",
      "3.581491551668909\n",
      "3.5297594071217175\n",
      "3.4798588693530346\n",
      "3.4316993319213838\n",
      "3.3851958683798338\n",
      "3.340268800572088\n",
      "3.296843304344545\n",
      "3.2548490492268005\n",
      "3.2142198689479105\n",
      "3.1748934599475143\n",
      "3.13681110530388\n",
      "3.0999174217438212\n",
      "3.0641601276186643\n",
      "3.029489829930756\n",
      "2.995859828676358\n",
      "2.9632259369351113\n",
      "2.931546315285424\n",
      "2.9007813192597216\n",
      "2.8708933586754783\n",
      "2.8418467677882027\n",
      "2.813607685311876\n",
      "2.786143943443043\n",
      "2.759424965106459\n",
      "2.733421668712072\n",
      "2.708106379782928\n",
      "2.683452748870812\n",
      "2.659435675232708\n",
      "2.636031235789982\n",
      "2.6132166189368133\n",
      "2.590970062804244\n",
      "2.569270797623087\n",
      "2.5480989918615093\n",
      "2.527435701842383\n",
      "2.5072628245729955\n",
      "2.487563053542809\n",
      "2.4683198372673307\n"
     ]
    }
   ],
   "source": [
    "net.gradientDescent(X, y, 0.01, 100, True)"
   ]
  },
  {
   "cell_type": "code",
   "execution_count": null,
   "metadata": {},
   "outputs": [],
   "source": []
  },
  {
   "cell_type": "code",
   "execution_count": null,
   "metadata": {
    "tags": []
   },
   "outputs": [],
   "source": []
  },
  {
   "cell_type": "code",
   "execution_count": null,
   "metadata": {
    "tags": []
   },
   "outputs": [],
   "source": []
  },
  {
   "cell_type": "code",
   "execution_count": null,
   "metadata": {
    "tags": []
   },
   "outputs": [],
   "source": []
  },
  {
   "cell_type": "code",
   "execution_count": null,
   "metadata": {},
   "outputs": [],
   "source": []
  },
  {
   "cell_type": "code",
   "execution_count": null,
   "metadata": {},
   "outputs": [],
   "source": []
  },
  {
   "cell_type": "code",
   "execution_count": null,
   "metadata": {},
   "outputs": [],
   "source": []
  },
  {
   "cell_type": "code",
   "execution_count": null,
   "metadata": {},
   "outputs": [],
   "source": []
  }
 ],
 "metadata": {
  "kernelspec": {
   "display_name": "Python 3.7.4 64-bit ('base': conda)",
   "language": "python",
   "name": "python37464bitbaseconda5e2c7c33499b4412838dc587b5506098"
  },
  "language_info": {
   "codemirror_mode": {
    "name": "ipython",
    "version": 3
   },
   "file_extension": ".py",
   "mimetype": "text/x-python",
   "name": "python",
   "nbconvert_exporter": "python",
   "pygments_lexer": "ipython3",
   "version": "3.7.4"
  }
 },
 "nbformat": 4,
 "nbformat_minor": 2
}
